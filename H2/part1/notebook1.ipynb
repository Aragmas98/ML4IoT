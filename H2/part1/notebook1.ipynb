{
 "cells": [
  {
   "cell_type": "markdown",
   "metadata": {},
   "source": [
    "#### Imports and random seeds"
   ]
  },
  {
   "cell_type": "code",
   "execution_count": 1,
   "metadata": {},
   "outputs": [],
   "source": [
    "import numpy as np\n",
    "import os\n",
    "import pandas as pd\n",
    "import tensorflow as tf\n",
    "from tensorflow import keras\n",
    "import tensorflow_model_optimization as tfmot\n",
    "import zlib\n",
    "import matplotlib.pyplot as plt"
   ]
  },
  {
   "cell_type": "code",
   "execution_count": 2,
   "metadata": {},
   "outputs": [],
   "source": [
    "#setup a random seed\n",
    "seed = 42\n",
    "\n",
    "tf.random.set_seed(seed)\n",
    "np.random.seed(seed)"
   ]
  },
  {
   "cell_type": "code",
   "execution_count": 3,
   "metadata": {},
   "outputs": [],
   "source": [
    "os.environ[\"TF_CPP_MIN_LOG_LEVEL\"] = \"2\"\n",
    "# Make sure we don't get any GPU errors\n",
    "physical_devices = tf.config.list_physical_devices(\"GPU\")\n",
    "tf.config.experimental.set_memory_growth(physical_devices[0], True)"
   ]
  },
  {
   "cell_type": "markdown",
   "metadata": {},
   "source": [
    "#### Data downloading and train-test-val split"
   ]
  },
  {
   "cell_type": "code",
   "execution_count": 4,
   "metadata": {},
   "outputs": [
    {
     "data": {
      "text/html": [
       "<div>\n",
       "<style scoped>\n",
       "    .dataframe tbody tr th:only-of-type {\n",
       "        vertical-align: middle;\n",
       "    }\n",
       "\n",
       "    .dataframe tbody tr th {\n",
       "        vertical-align: top;\n",
       "    }\n",
       "\n",
       "    .dataframe thead th {\n",
       "        text-align: right;\n",
       "    }\n",
       "</style>\n",
       "<table border=\"1\" class=\"dataframe\">\n",
       "  <thead>\n",
       "    <tr style=\"text-align: right;\">\n",
       "      <th></th>\n",
       "      <th>Date Time</th>\n",
       "      <th>p (mbar)</th>\n",
       "      <th>T (degC)</th>\n",
       "      <th>Tpot (K)</th>\n",
       "      <th>Tdew (degC)</th>\n",
       "      <th>rh (%)</th>\n",
       "      <th>VPmax (mbar)</th>\n",
       "      <th>VPact (mbar)</th>\n",
       "      <th>VPdef (mbar)</th>\n",
       "      <th>sh (g/kg)</th>\n",
       "      <th>H2OC (mmol/mol)</th>\n",
       "      <th>rho (g/m**3)</th>\n",
       "      <th>wv (m/s)</th>\n",
       "      <th>max. wv (m/s)</th>\n",
       "      <th>wd (deg)</th>\n",
       "    </tr>\n",
       "  </thead>\n",
       "  <tbody>\n",
       "    <tr>\n",
       "      <th>0</th>\n",
       "      <td>01.01.2009 00:10:00</td>\n",
       "      <td>996.52</td>\n",
       "      <td>-8.02</td>\n",
       "      <td>265.40</td>\n",
       "      <td>-8.90</td>\n",
       "      <td>93.3</td>\n",
       "      <td>3.33</td>\n",
       "      <td>3.11</td>\n",
       "      <td>0.22</td>\n",
       "      <td>1.94</td>\n",
       "      <td>3.12</td>\n",
       "      <td>1307.75</td>\n",
       "      <td>1.03</td>\n",
       "      <td>1.75</td>\n",
       "      <td>152.3</td>\n",
       "    </tr>\n",
       "    <tr>\n",
       "      <th>1</th>\n",
       "      <td>01.01.2009 00:20:00</td>\n",
       "      <td>996.57</td>\n",
       "      <td>-8.41</td>\n",
       "      <td>265.01</td>\n",
       "      <td>-9.28</td>\n",
       "      <td>93.4</td>\n",
       "      <td>3.23</td>\n",
       "      <td>3.02</td>\n",
       "      <td>0.21</td>\n",
       "      <td>1.89</td>\n",
       "      <td>3.03</td>\n",
       "      <td>1309.80</td>\n",
       "      <td>0.72</td>\n",
       "      <td>1.50</td>\n",
       "      <td>136.1</td>\n",
       "    </tr>\n",
       "    <tr>\n",
       "      <th>2</th>\n",
       "      <td>01.01.2009 00:30:00</td>\n",
       "      <td>996.53</td>\n",
       "      <td>-8.51</td>\n",
       "      <td>264.91</td>\n",
       "      <td>-9.31</td>\n",
       "      <td>93.9</td>\n",
       "      <td>3.21</td>\n",
       "      <td>3.01</td>\n",
       "      <td>0.20</td>\n",
       "      <td>1.88</td>\n",
       "      <td>3.02</td>\n",
       "      <td>1310.24</td>\n",
       "      <td>0.19</td>\n",
       "      <td>0.63</td>\n",
       "      <td>171.6</td>\n",
       "    </tr>\n",
       "    <tr>\n",
       "      <th>3</th>\n",
       "      <td>01.01.2009 00:40:00</td>\n",
       "      <td>996.51</td>\n",
       "      <td>-8.31</td>\n",
       "      <td>265.12</td>\n",
       "      <td>-9.07</td>\n",
       "      <td>94.2</td>\n",
       "      <td>3.26</td>\n",
       "      <td>3.07</td>\n",
       "      <td>0.19</td>\n",
       "      <td>1.92</td>\n",
       "      <td>3.08</td>\n",
       "      <td>1309.19</td>\n",
       "      <td>0.34</td>\n",
       "      <td>0.50</td>\n",
       "      <td>198.0</td>\n",
       "    </tr>\n",
       "    <tr>\n",
       "      <th>4</th>\n",
       "      <td>01.01.2009 00:50:00</td>\n",
       "      <td>996.51</td>\n",
       "      <td>-8.27</td>\n",
       "      <td>265.15</td>\n",
       "      <td>-9.04</td>\n",
       "      <td>94.1</td>\n",
       "      <td>3.27</td>\n",
       "      <td>3.08</td>\n",
       "      <td>0.19</td>\n",
       "      <td>1.92</td>\n",
       "      <td>3.09</td>\n",
       "      <td>1309.00</td>\n",
       "      <td>0.32</td>\n",
       "      <td>0.63</td>\n",
       "      <td>214.3</td>\n",
       "    </tr>\n",
       "  </tbody>\n",
       "</table>\n",
       "</div>"
      ],
      "text/plain": [
       "             Date Time  p (mbar)  T (degC)  Tpot (K)  Tdew (degC)  rh (%)  \\\n",
       "0  01.01.2009 00:10:00    996.52     -8.02    265.40        -8.90    93.3   \n",
       "1  01.01.2009 00:20:00    996.57     -8.41    265.01        -9.28    93.4   \n",
       "2  01.01.2009 00:30:00    996.53     -8.51    264.91        -9.31    93.9   \n",
       "3  01.01.2009 00:40:00    996.51     -8.31    265.12        -9.07    94.2   \n",
       "4  01.01.2009 00:50:00    996.51     -8.27    265.15        -9.04    94.1   \n",
       "\n",
       "   VPmax (mbar)  VPact (mbar)  VPdef (mbar)  sh (g/kg)  H2OC (mmol/mol)  \\\n",
       "0          3.33          3.11          0.22       1.94             3.12   \n",
       "1          3.23          3.02          0.21       1.89             3.03   \n",
       "2          3.21          3.01          0.20       1.88             3.02   \n",
       "3          3.26          3.07          0.19       1.92             3.08   \n",
       "4          3.27          3.08          0.19       1.92             3.09   \n",
       "\n",
       "   rho (g/m**3)  wv (m/s)  max. wv (m/s)  wd (deg)  \n",
       "0       1307.75      1.03           1.75     152.3  \n",
       "1       1309.80      0.72           1.50     136.1  \n",
       "2       1310.24      0.19           0.63     171.6  \n",
       "3       1309.19      0.34           0.50     198.0  \n",
       "4       1309.00      0.32           0.63     214.3  "
      ]
     },
     "execution_count": 4,
     "metadata": {},
     "output_type": "execute_result"
    }
   ],
   "source": [
    "zip_path = tf.keras.utils.get_file(\n",
    "    origin=\"https://storage.googleapis.com/tensorflow/tf-keras-datasets/jena_climate_2009_2016.csv.zip\", \n",
    "    fname='jena_climate_2009_2016.csv.zip', \n",
    "    extract=True, \n",
    "    cache_dir='.', cache_subdir='data')\n",
    "\n",
    "csv_path, _ = os.path.splitext(zip_path)\n",
    "df = pd.read_csv(csv_path)\n",
    "df.head(5)"
   ]
  },
  {
   "cell_type": "code",
   "execution_count": 5,
   "metadata": {},
   "outputs": [
    {
     "data": {
      "text/plain": [
       "array([[-8.02, 93.3 ],\n",
       "       [-8.41, 93.4 ],\n",
       "       [-8.51, 93.9 ],\n",
       "       [-8.31, 94.2 ],\n",
       "       [-8.27, 94.1 ]], dtype=float32)"
      ]
     },
     "execution_count": 5,
     "metadata": {},
     "output_type": "execute_result"
    }
   ],
   "source": [
    "column_indices = [2,5]\n",
    "columns = df.columns[column_indices]\n",
    "data = df[columns].values.astype(np.float32)\n",
    "\n",
    "data[:5]"
   ]
  },
  {
   "cell_type": "code",
   "execution_count": 6,
   "metadata": {},
   "outputs": [],
   "source": [
    "n = len(data)\n",
    "train_data = data[0:int(n*0.7)]\n",
    "val_data = data[int(n*0.7):int(n*0.9)]\n",
    "test_data = data[int(n*0.9):]"
   ]
  },
  {
   "cell_type": "code",
   "execution_count": 7,
   "metadata": {},
   "outputs": [],
   "source": [
    "mean = train_data.mean(axis=0)\n",
    "std = train_data.std(axis=0)"
   ]
  },
  {
   "cell_type": "markdown",
   "metadata": {},
   "source": [
    "#### Window generator and Multiple-Output_MAE"
   ]
  },
  {
   "cell_type": "code",
   "execution_count": 8,
   "metadata": {},
   "outputs": [],
   "source": [
    "class WindowGenerator:\n",
    "    def __init__(self, input_width, label_width, num_features, mean, std):\n",
    "        self.input_width = input_width\n",
    "        self.label_width = label_width\n",
    "        self.num_features = num_features\n",
    "        self.mean = tf.reshape(tf.convert_to_tensor(mean), [1, 1, 2])\n",
    "        self.std = tf.reshape(tf.convert_to_tensor(std), [1, 1, 2])\n",
    "\n",
    "    def split_window(self, features):\n",
    "        # features -> set of sequences made of input_width + label_width values each. [#batch, (input+label)_width, 2] \n",
    "        inputs = features[:, :-self.label_width, :]\n",
    "        labels = features[:, -self.label_width:, :]\n",
    "\n",
    "        inputs.set_shape([None, self.input_width, self.num_features])\n",
    "        labels.set_shape([None, self.label_width, self.num_features])\n",
    "        \n",
    "        return inputs, labels\n",
    "\n",
    "    def normalize(self, features):\n",
    "        features = (features - self.mean) / (self.std + 1.e-6)\n",
    "\n",
    "        return features\n",
    "\n",
    "    def preprocess(self, features):\n",
    "        inputs, labels = self.split_window(features)\n",
    "        inputs = self.normalize(inputs)\n",
    "\n",
    "        return inputs, labels\n",
    "\n",
    "    def make_dataset(self, data, reshuffle):\n",
    "        # Creates a dataset of sliding windows over a timeseries provided as array\n",
    "        ds = tf.keras.preprocessing.timeseries_dataset_from_array(\n",
    "                data=data, # consecutive data points\n",
    "                targets=None, # None -> the dataset will only yield the input data\n",
    "                sequence_length=self.input_width + self.label_width, # Length of the output sequences\n",
    "                sequence_stride=1, # Period between successive output sequences\n",
    "                batch_size=32) # Number of timeseries samples in each batch \n",
    "        \n",
    "        # from each set of sequences it splits data to get input and labels and then normalize\n",
    "        ds = ds.map(self.preprocess)\n",
    "\n",
    "        # so the mapping is done only once\n",
    "        ds = ds.cache()\n",
    "        if reshuffle:\n",
    "            ds = ds.shuffle(100, reshuffle_each_iteration=True)\n",
    "\n",
    "        return ds"
   ]
  },
  {
   "cell_type": "code",
   "execution_count": 9,
   "metadata": {},
   "outputs": [],
   "source": [
    "class MultiOutputMAE(tf.keras.metrics.Metric):\n",
    "\n",
    "    def __init__(self, name='mean_absolute_error', **kwargs):\n",
    "        super().__init__(name=name, **kwargs)\n",
    "        self.total = self.add_weight('total', initializer='zeros', shape=(2,))\n",
    "        self.count = self.add_weight('count', initializer='zeros')\n",
    "\n",
    "    def update_state(self, y_true, y_pred, sample_weight=None): \n",
    "        error = tf.abs(y_pred - y_true)\n",
    "        error = tf.reduce_mean(error, axis=[0,1])\n",
    "        self.total.assign_add(error)\n",
    "        self.count.assign_add(1.)\n",
    "        return\n",
    "    \n",
    "    def reset_state(self):\n",
    "        self.count.assign(tf.zeros_like(self.count))\n",
    "        self.total.assign(tf.zeros_like(self.total))\n",
    "    \n",
    "    def result(self):\n",
    "        result = tf.math.divide_no_nan(self.total, self.count)\n",
    "        return result"
   ]
  },
  {
   "cell_type": "code",
   "execution_count": 10,
   "metadata": {},
   "outputs": [],
   "source": [
    "def plot_history(history):\n",
    "    hist = pd.DataFrame(history.history)\n",
    "    hist = hist[1:]\n",
    "    hist['epoch'] = history.epoch [1:]\n",
    "    plt.figure()\n",
    "    plt.xlabel('Epoch')\n",
    "    plt.ylabel('Loss')\n",
    "    plt.plot(hist['epoch'], hist['loss'], label='Train Error')\n",
    "    plt.plot(hist['epoch'], hist['val_loss'], label='Val Error')\n",
    "    plt.legend()"
   ]
  },
  {
   "cell_type": "code",
   "execution_count": 11,
   "metadata": {},
   "outputs": [],
   "source": [
    "input_width = 6\n",
    "label_width = 9 # 3 or 9\n",
    "num_features = 2\n",
    "\n",
    "generator = WindowGenerator(input_width, label_width, num_features, mean=mean, std=std)\n",
    "train_ds = generator.make_dataset(train_data, reshuffle=True)\n",
    "val_ds = generator.make_dataset(val_data, reshuffle=False)\n",
    "test_ds = generator.make_dataset(test_data, reshuffle=False)"
   ]
  },
  {
   "cell_type": "markdown",
   "metadata": {},
   "source": [
    "#### Base Model"
   ]
  },
  {
   "cell_type": "code",
   "execution_count": 12,
   "metadata": {},
   "outputs": [],
   "source": [
    "alpha = 0.25\n",
    "sparsity = 0.9\n",
    "\n",
    "mlp = tf.keras.Sequential([\n",
    "    tf.keras.layers.Flatten(), \n",
    "    tf.keras.layers.Dense(units=int(128*alpha), activation='relu'), \n",
    "    tf.keras.layers.Dense(units=int(128*alpha), activation='relu'), \n",
    "    tf.keras.layers.Dense(units=label_width*num_features),\n",
    "    tf.keras.layers.Reshape([label_width, num_features])\n",
    "])"
   ]
  },
  {
   "cell_type": "code",
   "execution_count": 13,
   "metadata": {},
   "outputs": [],
   "source": [
    "# alpha = 0.07\n",
    "# sparsity=0.7 \n",
    "\n",
    "# cnn = tf.keras.Sequential([ \n",
    "#     tf.keras.layers.Conv1D(filters=int(64*alpha), kernel_size=(3,), activation='relu'), \n",
    "#     tf.keras.layers.Flatten(), \n",
    "#     tf.keras.layers.Dense(units=int(64*alpha), activation='relu'), \n",
    "#     tf.keras.layers.Dense(units=num_features*label_width),\n",
    "#     tf.keras.layers.Reshape([label_width, num_features])\n",
    "# ])"
   ]
  },
  {
   "cell_type": "code",
   "execution_count": 14,
   "metadata": {},
   "outputs": [],
   "source": [
    "loss = tf.losses.MeanSquaredError()\n",
    "optimizer = tf.optimizers.Adam()\n",
    "metrics = [MultiOutputMAE()] "
   ]
  },
  {
   "cell_type": "code",
   "execution_count": 15,
   "metadata": {},
   "outputs": [],
   "source": [
    "checkpoint_filepath = f'./checkpoints/base_{label_width}/'\n",
    "\n",
    "if not os.path.exists(checkpoint_filepath):\n",
    "    os.makedirs(checkpoint_filepath)\n",
    "\n",
    "model_checkpoint_callback = tf.keras.callbacks.ModelCheckpoint(\n",
    "    filepath=checkpoint_filepath,\n",
    "    save_weights_only=True,\n",
    "    monitor='val_loss',\n",
    "    mode='min', #based on the mean_squared_error results the checkpoint will store the model with the lowest error.\n",
    "    save_best_only=True)"
   ]
  },
  {
   "cell_type": "code",
   "execution_count": 16,
   "metadata": {},
   "outputs": [
    {
     "name": "stdout",
     "output_type": "stream",
     "text": [
      "Epoch 1/20\n",
      "9200/9200 [==============================] - 57s 6ms/step - loss: 104.2201 - mean_absolute_error: 4.2195 - val_loss: 9.5073 - val_mean_absolute_error: 1.9331\n",
      "Epoch 2/20\n",
      "9200/9200 [==============================] - 50s 5ms/step - loss: 7.7094 - mean_absolute_error: 1.6069 - val_loss: 7.7489 - val_mean_absolute_error: 1.6835\n",
      "Epoch 3/20\n",
      "9200/9200 [==============================] - 51s 6ms/step - loss: 7.2872 - mean_absolute_error: 1.5183 - val_loss: 7.0153 - val_mean_absolute_error: 1.4614\n",
      "Epoch 4/20\n",
      "9200/9200 [==============================] - 51s 6ms/step - loss: 7.1683 - mean_absolute_error: 1.5044 - val_loss: 6.6483 - val_mean_absolute_error: 1.4125\n",
      "Epoch 5/20\n",
      "9200/9200 [==============================] - 51s 6ms/step - loss: 7.0130 - mean_absolute_error: 1.4807 - val_loss: 8.7829 - val_mean_absolute_error: 1.7743\n",
      "Epoch 6/20\n",
      "9200/9200 [==============================] - 50s 5ms/step - loss: 6.9405 - mean_absolute_error: 1.4707 - val_loss: 8.1357 - val_mean_absolute_error: 1.7048\n",
      "Epoch 7/20\n",
      "9200/9200 [==============================] - 49s 5ms/step - loss: 6.9128 - mean_absolute_error: 1.4617 - val_loss: 7.4017 - val_mean_absolute_error: 1.5550\n",
      "Epoch 8/20\n",
      "9200/9200 [==============================] - 49s 5ms/step - loss: 6.8717 - mean_absolute_error: 1.4619 - val_loss: 8.8881 - val_mean_absolute_error: 1.8527\n",
      "Epoch 9/20\n",
      "9200/9200 [==============================] - 49s 5ms/step - loss: 6.8209 - mean_absolute_error: 1.4549 - val_loss: 6.8265 - val_mean_absolute_error: 1.4784\n",
      "Epoch 10/20\n",
      "9200/9200 [==============================] - 49s 5ms/step - loss: 6.7897 - mean_absolute_error: 1.4508 - val_loss: 6.7018 - val_mean_absolute_error: 1.4285\n",
      "Epoch 11/20\n",
      "9200/9200 [==============================] - 49s 5ms/step - loss: 6.7356 - mean_absolute_error: 1.4350 - val_loss: 6.7678 - val_mean_absolute_error: 1.4156\n",
      "Epoch 12/20\n",
      "9200/9200 [==============================] - 48s 5ms/step - loss: 6.7084 - mean_absolute_error: 1.4344 - val_loss: 6.4035 - val_mean_absolute_error: 1.3627\n",
      "Epoch 13/20\n",
      "9200/9200 [==============================] - 41s 5ms/step - loss: 6.7186 - mean_absolute_error: 1.4339 - val_loss: 6.7721 - val_mean_absolute_error: 1.4474\n",
      "Epoch 14/20\n",
      "9200/9200 [==============================] - 39s 4ms/step - loss: 6.7391 - mean_absolute_error: 1.4388 - val_loss: 6.7703 - val_mean_absolute_error: 1.4178\n",
      "Epoch 15/20\n",
      "9200/9200 [==============================] - 41s 4ms/step - loss: 6.6614 - mean_absolute_error: 1.4275 - val_loss: 11.0271 - val_mean_absolute_error: 2.1378\n",
      "Epoch 16/20\n",
      "9200/9200 [==============================] - 47s 5ms/step - loss: 6.6514 - mean_absolute_error: 1.4270 - val_loss: 7.0040 - val_mean_absolute_error: 1.5804\n",
      "Epoch 17/20\n",
      "9200/9200 [==============================] - 50s 5ms/step - loss: 6.6665 - mean_absolute_error: 1.4296 - val_loss: 6.8812 - val_mean_absolute_error: 1.4967\n",
      "Epoch 18/20\n",
      "9200/9200 [==============================] - 50s 5ms/step - loss: 6.6340 - mean_absolute_error: 1.4288 - val_loss: 7.7954 - val_mean_absolute_error: 1.6212\n",
      "Epoch 19/20\n",
      "9200/9200 [==============================] - 50s 5ms/step - loss: 6.5908 - mean_absolute_error: 1.4244 - val_loss: 7.4370 - val_mean_absolute_error: 1.5786\n",
      "Epoch 20/20\n",
      "9200/9200 [==============================] - 51s 6ms/step - loss: 6.5953 - mean_absolute_error: 1.4269 - val_loss: 6.3496 - val_mean_absolute_error: 1.3506\n"
     ]
    },
    {
     "data": {
      "text/plain": [
       "<tensorflow.python.training.tracking.util.CheckpointLoadStatus at 0x1db02384848>"
      ]
     },
     "execution_count": 16,
     "metadata": {},
     "output_type": "execute_result"
    }
   ],
   "source": [
    "base_model = mlp\n",
    "base_model.compile(loss=loss, optimizer=optimizer, metrics=metrics)\n",
    "\n",
    "history = base_model.fit(train_ds,   \n",
    "    epochs=20, \n",
    "    validation_data=val_ds,\n",
    "    callbacks=[model_checkpoint_callback]\n",
    "    )\n",
    "\n",
    "base_model.load_weights(checkpoint_filepath)"
   ]
  },
  {
   "cell_type": "code",
   "execution_count": 17,
   "metadata": {},
   "outputs": [
    {
     "data": {
      "image/png": "[encoded data removed]",
      "text/plain": [
       "<Figure size 432x288 with 1 Axes>"
      ]
     },
     "metadata": {
      "needs_background": "light"
     },
     "output_type": "display_data"
    }
   ],
   "source": [
    "plot_history(history)"
   ]
  },
  {
   "cell_type": "markdown",
   "metadata": {},
   "source": [
    "#### Pruning"
   ]
  },
  {
   "cell_type": "code",
   "execution_count": 18,
   "metadata": {},
   "outputs": [
    {
     "name": "stderr",
     "output_type": "stream",
     "text": [
      "C:\\Users\\juanm\\AppData\\Local\\Programs\\Python\\Python37\\lib\\site-packages\\tensorflow_model_optimization\\python\\core\\sparsity\\keras\\pruning_wrapper.py:238: UserWarning: `layer.add_variable` is deprecated and will be removed in a future version. Please use `layer.add_weight` method instead.\n",
      "  trainable=False)\n",
      "C:\\Users\\juanm\\AppData\\Local\\Programs\\Python\\Python37\\lib\\site-packages\\tensorflow_model_optimization\\python\\core\\sparsity\\keras\\pruning_wrapper.py:218: UserWarning: `layer.add_variable` is deprecated and will be removed in a future version. Please use `layer.add_weight` method instead.\n",
      "  aggregation=tf.VariableAggregation.MEAN)\n",
      "C:\\Users\\juanm\\AppData\\Local\\Programs\\Python\\Python37\\lib\\site-packages\\tensorflow_model_optimization\\python\\core\\sparsity\\keras\\pruning_wrapper.py:225: UserWarning: `layer.add_variable` is deprecated and will be removed in a future version. Please use `layer.add_weight` method instead.\n",
      "  aggregation=tf.VariableAggregation.MEAN)\n"
     ]
    }
   ],
   "source": [
    "prune_low_magnitude = tfmot.sparsity.keras.prune_low_magnitude\n",
    "\n",
    "pruning_params = {\n",
    "\t'pruning_schedule':\n",
    "\t\ttfmot.sparsity.keras.PolynomialDecay(\n",
    "\t\tinitial_sparsity=0.30,\n",
    "\t\tfinal_sparsity=sparsity,\n",
    "\t\tbegin_step=len(train_ds)*3,\n",
    "\t\tend_step=len(train_ds)*15)}\n",
    "        \n",
    "model_for_pruning = prune_low_magnitude(base_model, **pruning_params)\n",
    "\n",
    "model_sparcity_callback = tfmot.sparsity.keras.UpdatePruningStep()"
   ]
  },
  {
   "cell_type": "code",
   "execution_count": 19,
   "metadata": {},
   "outputs": [],
   "source": [
    "model_for_pruning.compile(loss=loss, optimizer=optimizer, metrics=metrics)\n",
    "\n",
    "checkpoint_filepath = f'./checkpoints/prun_{label_width}/'\n",
    "\n",
    "if not os.path.exists(checkpoint_filepath):\n",
    "    os.makedirs(checkpoint_filepath)\n",
    "\n",
    "model_checkpoint_callback = tf.keras.callbacks.ModelCheckpoint(\n",
    "    filepath=checkpoint_filepath,\n",
    "    save_weights_only=True,\n",
    "    monitor='val_loss',\n",
    "    mode='min', #based on the mean_squared_error results the checkpoint will store the model with the lowest error.\n",
    "    save_best_only=True)"
   ]
  },
  {
   "cell_type": "code",
   "execution_count": 20,
   "metadata": {},
   "outputs": [
    {
     "name": "stdout",
     "output_type": "stream",
     "text": [
      "Epoch 1/20\n",
      "9200/9200 [==============================] - 87s 9ms/step - loss: 6.5890 - mean_absolute_error: 1.4052 - val_loss: 6.5854 - val_mean_absolute_error: 1.4231\n",
      "Epoch 2/20\n",
      "9200/9200 [==============================] - 85s 9ms/step - loss: 6.5350 - mean_absolute_error: 1.4126 - val_loss: 9.0816 - val_mean_absolute_error: 1.7891\n",
      "Epoch 3/20\n",
      "9200/9200 [==============================] - 84s 9ms/step - loss: 6.5857 - mean_absolute_error: 1.4254 - val_loss: 19.8516 - val_mean_absolute_error: 3.4634\n",
      "Epoch 4/20\n",
      "9200/9200 [==============================] - 84s 9ms/step - loss: 6.4865 - mean_absolute_error: 1.3951 - val_loss: 6.5235 - val_mean_absolute_error: 1.4009\n",
      "Epoch 5/20\n",
      "9200/9200 [==============================] - 83s 9ms/step - loss: 6.4442 - mean_absolute_error: 1.3845 - val_loss: 6.7818 - val_mean_absolute_error: 1.4802\n",
      "Epoch 6/20\n",
      "9200/9200 [==============================] - 83s 9ms/step - loss: 6.4467 - mean_absolute_error: 1.3908 - val_loss: 7.6252 - val_mean_absolute_error: 1.5398\n",
      "Epoch 7/20\n",
      "9200/9200 [==============================] - 84s 9ms/step - loss: 6.5120 - mean_absolute_error: 1.4007 - val_loss: 7.6604 - val_mean_absolute_error: 1.7586\n",
      "Epoch 8/20\n",
      "9200/9200 [==============================] - 83s 9ms/step - loss: 6.6354 - mean_absolute_error: 1.4303 - val_loss: 8.8882 - val_mean_absolute_error: 1.6263\n",
      "Epoch 9/20\n",
      "9200/9200 [==============================] - 83s 9ms/step - loss: 6.7119 - mean_absolute_error: 1.4258 - val_loss: 8.0032 - val_mean_absolute_error: 1.7189\n",
      "Epoch 10/20\n",
      "9200/9200 [==============================] - 88s 10ms/step - loss: 7.0728 - mean_absolute_error: 1.5007 - val_loss: 7.3377 - val_mean_absolute_error: 1.6713\n",
      "Epoch 11/20\n",
      "9200/9200 [==============================] - 83s 9ms/step - loss: 8.6682 - mean_absolute_error: 1.6873 - val_loss: 8.5817 - val_mean_absolute_error: 1.7733\n",
      "Epoch 12/20\n",
      "9200/9200 [==============================] - 83s 9ms/step - loss: 8.1858 - mean_absolute_error: 1.6094 - val_loss: 6.7167 - val_mean_absolute_error: 1.4392\n",
      "Epoch 13/20\n",
      "9200/9200 [==============================] - 83s 9ms/step - loss: 7.6344 - mean_absolute_error: 1.5183 - val_loss: 6.6491 - val_mean_absolute_error: 1.4197\n",
      "Epoch 14/20\n",
      "9200/9200 [==============================] - 84s 9ms/step - loss: 7.2038 - mean_absolute_error: 1.4562 - val_loss: 6.4990 - val_mean_absolute_error: 1.3785\n",
      "Epoch 15/20\n",
      "9200/9200 [==============================] - 85s 9ms/step - loss: 6.9733 - mean_absolute_error: 1.4278 - val_loss: 6.4634 - val_mean_absolute_error: 1.3967\n",
      "Epoch 16/20\n",
      "9200/9200 [==============================] - 93s 10ms/step - loss: 6.8601 - mean_absolute_error: 1.4136 - val_loss: 6.5510 - val_mean_absolute_error: 1.3919\n",
      "Epoch 17/20\n",
      "9200/9200 [==============================] - 88s 10ms/step - loss: 6.7798 - mean_absolute_error: 1.4040 - val_loss: 6.5449 - val_mean_absolute_error: 1.4001\n",
      "Epoch 18/20\n",
      "9200/9200 [==============================] - 88s 10ms/step - loss: 6.7254 - mean_absolute_error: 1.3978 - val_loss: 6.4438 - val_mean_absolute_error: 1.3851\n",
      "Epoch 19/20\n",
      "9200/9200 [==============================] - 89s 10ms/step - loss: 6.6773 - mean_absolute_error: 1.3913 - val_loss: 6.4462 - val_mean_absolute_error: 1.3862\n",
      "Epoch 20/20\n",
      "9200/9200 [==============================] - 88s 10ms/step - loss: 6.6545 - mean_absolute_error: 1.3894 - val_loss: 6.5309 - val_mean_absolute_error: 1.4120\n"
     ]
    },
    {
     "data": {
      "text/plain": [
       "<tensorflow.python.training.tracking.util.CheckpointLoadStatus at 0x1db1f8f1508>"
      ]
     },
     "execution_count": 20,
     "metadata": {},
     "output_type": "execute_result"
    }
   ],
   "source": [
    "history = model_for_pruning.fit(train_ds,   \n",
    "    epochs=20, \n",
    "    validation_data=val_ds, \n",
    "    callbacks=[model_sparcity_callback, model_checkpoint_callback]\n",
    "    )\n",
    "\n",
    "model_for_pruning.load_weights(checkpoint_filepath)"
   ]
  },
  {
   "cell_type": "code",
   "execution_count": 21,
   "metadata": {},
   "outputs": [
    {
     "data": {
      "image/png": "[encoded data removed]",
      "text/plain": [
       "<Figure size 432x288 with 1 Axes>"
      ]
     },
     "metadata": {
      "needs_background": "light"
     },
     "output_type": "display_data"
    }
   ],
   "source": [
    "plot_history(history)"
   ]
  },
  {
   "cell_type": "code",
   "execution_count": 22,
   "metadata": {},
   "outputs": [],
   "source": [
    "model_for_export = tfmot.sparsity.keras.strip_pruning(model_for_pruning)\n",
    "\n",
    "converter = tf.lite.TFLiteConverter.from_keras_model(model_for_export)\n",
    "\n",
    "converter.optimizations = [\n",
    "    tf.lite.Optimize.EXPERIMENTAL_SPARSITY, # Enables size reduction optimization. \n",
    "    tf.lite.Optimize.DEFAULT # Enables quantization at conversion.\n",
    "    #tf.lite.Optimize.OPTIMIZE_FOR_SIZE\n",
    "]\n",
    "converter.target_spec.supported_types = [tf.float16]"
   ]
  },
  {
   "cell_type": "code",
   "execution_count": 23,
   "metadata": {},
   "outputs": [
    {
     "name": "stderr",
     "output_type": "stream",
     "text": [
      "WARNING:absl:Optimization option OPTIMIZE_FOR_SIZE is deprecated, please use optimizations=[Optimize.DEFAULT] instead.\n"
     ]
    },
    {
     "name": "stdout",
     "output_type": "stream",
     "text": [
      "INFO:tensorflow:Assets written to: C:\\Users\\juanm\\AppData\\Local\\Temp\\tmpql1uyc__\\assets\n"
     ]
    },
    {
     "name": "stderr",
     "output_type": "stream",
     "text": [
      "INFO:tensorflow:Assets written to: C:\\Users\\juanm\\AppData\\Local\\Temp\\tmpql1uyc__\\assets\n",
      "WARNING:absl:Optimization option OPTIMIZE_FOR_SIZE is deprecated, please use optimizations=[Optimize.DEFAULT] instead.\n",
      "WARNING:absl:Optimization option OPTIMIZE_FOR_SIZE is deprecated, please use optimizations=[Optimize.DEFAULT] instead.\n"
     ]
    }
   ],
   "source": [
    "tflite_buffer = converter.convert()\n",
    "tflite_compressed = zlib.compress(tflite_buffer)"
   ]
  },
  {
   "cell_type": "markdown",
   "metadata": {},
   "source": [
    "#### save TF Lite Model"
   ]
  },
  {
   "cell_type": "code",
   "execution_count": 24,
   "metadata": {},
   "outputs": [
    {
     "name": "stdout",
     "output_type": "stream",
     "text": [
      "File size: 2.4658 Kilobytes\n"
     ]
    }
   ],
   "source": [
    "MODEL_FILE_NAME = f'model_{label_width}.tflite'\n",
    "\n",
    "if not os.path.exists(f'./models/'):\n",
    "    os.makedirs(f'./models/')\n",
    "\n",
    "saved_model_dir = os.path.join(f'./models/', MODEL_FILE_NAME)\n",
    "\n",
    "with open(saved_model_dir, 'wb') as f:\n",
    "    f.write(tflite_compressed)\n",
    "\n",
    "print('File size: ' + str(round(os.path.getsize(saved_model_dir)/1024, 4)) + ' Kilobytes')"
   ]
  },
  {
   "cell_type": "markdown",
   "metadata": {},
   "source": [
    "#### save test dataset"
   ]
  },
  {
   "cell_type": "code",
   "execution_count": 25,
   "metadata": {},
   "outputs": [],
   "source": [
    "tf.data.experimental.save(test_ds, './th_test')"
   ]
  },
  {
   "cell_type": "markdown",
   "metadata": {},
   "source": [
    "#### On the edge side"
   ]
  },
  {
   "cell_type": "code",
   "execution_count": 26,
   "metadata": {},
   "outputs": [],
   "source": [
    "# import zlib\n",
    "\n",
    "# input_width = 6\n",
    "# label_width = 3 # 3 or 9\n",
    "# num_features = 2\n",
    "\n",
    "# MODEL_FILE_NAME = f'model_{label_width}.tflite'\n",
    "# saved_model_dir = os.path.join(f'./models/{MODEL}_{ID}/', MODEL_FILE_NAME)\n",
    "\n",
    "TEST_DIR = './th_test/'"
   ]
  },
  {
   "cell_type": "code",
   "execution_count": 27,
   "metadata": {},
   "outputs": [
    {
     "data": {
      "text/plain": [
       "'./models/model_9.tflite'"
      ]
     },
     "execution_count": 27,
     "metadata": {},
     "output_type": "execute_result"
    }
   ],
   "source": [
    "saved_model_dir"
   ]
  },
  {
   "cell_type": "code",
   "execution_count": 28,
   "metadata": {},
   "outputs": [
    {
     "name": "stdout",
     "output_type": "stream",
     "text": [
      "Compressed-File size: 2.4658 Kilobytes\n",
      "Decompressed-File size: 7.6172 Kilobytes\n"
     ]
    }
   ],
   "source": [
    "with open(saved_model_dir, 'rb') as fp:\n",
    "    decomp_model = zlib.decompress(fp.read())\n",
    "    decomp_model_path = saved_model_dir[:-4] # .tf file\n",
    "    \n",
    "    file = open(decomp_model_path,'wb')\n",
    "    file.write(decomp_model)\n",
    "    file.close()\n",
    "\n",
    "print('Compressed-File size: ' + str(round(os.path.getsize(saved_model_dir)/1024, 4)) + ' Kilobytes')\n",
    "print('Decompressed-File size: ' + str(round(os.path.getsize(decomp_model_path)/1024, 4)) + ' Kilobytes')"
   ]
  },
  {
   "cell_type": "code",
   "execution_count": 29,
   "metadata": {},
   "outputs": [],
   "source": [
    "tensor_specs = (tf.TensorSpec([None, input_width, num_features], dtype=tf.float32),\n",
    " tf.TensorSpec([None,label_width, num_features]))\n",
    "\n",
    "test_ds = tf.data.experimental.load(TEST_DIR, tensor_specs)"
   ]
  },
  {
   "cell_type": "code",
   "execution_count": 30,
   "metadata": {},
   "outputs": [],
   "source": [
    "test_ds = test_ds.unbatch().batch(1)"
   ]
  },
  {
   "cell_type": "code",
   "execution_count": 31,
   "metadata": {},
   "outputs": [],
   "source": [
    "interpreter = tf.lite.Interpreter(model_path=saved_model_dir[:-4])\n",
    "input_details = interpreter.get_input_details()\n",
    "output_details = interpreter.get_output_details()\n",
    "interpreter.allocate_tensors()"
   ]
  },
  {
   "cell_type": "code",
   "execution_count": 32,
   "metadata": {},
   "outputs": [
    {
     "name": "stdout",
     "output_type": "stream",
     "text": [
      "T MAE:  0.5703628588673232\n",
      "Rh MAE: 2.2828865702749632\n"
     ]
    }
   ],
   "source": [
    "error = 0\n",
    "for i,(input, labels) in enumerate(test_ds):\n",
    "    interpreter.set_tensor(input_details[0]['index'], input)\n",
    "    interpreter.invoke()\n",
    "    tflite_model_predictions = interpreter.get_tensor(output_details[0]['index'])\n",
    "    mae = np.mean(np.abs(tflite_model_predictions - labels), axis=1)\n",
    "\n",
    "    error = error + mae\n",
    "\n",
    "error_temp = error[0,0]/(i+1)\n",
    "error_hum = error[0,1]/(i+1)\n",
    "\n",
    "print('T MAE: ', error_temp)\n",
    "print('Rh MAE:', error_hum)\n"
   ]
  }
 ],
 "metadata": {
  "interpreter": {
   "hash": "b07df32797ebab3fa70d4a9f70db79d16446676c9594683b5222a41098e20e60"
  },
  "kernelspec": {
   "display_name": "Python 3.7.9 64-bit",
   "language": "python",
   "name": "python3"
  },
  "language_info": {
   "codemirror_mode": {
    "name": "ipython",
    "version": 3
   },
   "file_extension": ".py",
   "mimetype": "text/x-python",
   "name": "python",
   "nbconvert_exporter": "python",
   "pygments_lexer": "ipython3",
   "version": "3.7.9"
  },
  "orig_nbformat": 4
 },
 "nbformat": 4,
 "nbformat_minor": 2
}
